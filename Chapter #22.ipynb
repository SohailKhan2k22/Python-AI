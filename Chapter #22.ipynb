{
 "cells": [
  {
   "cell_type": "code",
   "execution_count": 11,
   "metadata": {},
   "outputs": [
    {
     "name": "stdout",
     "output_type": "stream",
     "text": [
      "['Sohail  Khan']\n",
      "['Sohail  Khan', 'Sohail  Niazi']\n",
      "['Sohail  Khan', 'Sohail  Niazi', 'Sohail  Bloch']\n",
      "['Sohail  Khan', 'Sohail  Niazi', 'Sohail  Bloch', 'Sohail  Arain']\n",
      "['Sohail  Khan', 'Sohail  Niazi', 'Sohail  Bloch', 'Sohail  Arain', 'Shakeel  Khan']\n",
      "['Sohail  Khan', 'Sohail  Niazi', 'Sohail  Bloch', 'Sohail  Arain', 'Shakeel  Khan', 'Shakeel  Niazi']\n",
      "['Sohail  Khan', 'Sohail  Niazi', 'Sohail  Bloch', 'Sohail  Arain', 'Shakeel  Khan', 'Shakeel  Niazi', 'Shakeel  Bloch']\n",
      "['Sohail  Khan', 'Sohail  Niazi', 'Sohail  Bloch', 'Sohail  Arain', 'Shakeel  Khan', 'Shakeel  Niazi', 'Shakeel  Bloch', 'Shakeel  Arain']\n",
      "['Sohail  Khan', 'Sohail  Niazi', 'Sohail  Bloch', 'Sohail  Arain', 'Shakeel  Khan', 'Shakeel  Niazi', 'Shakeel  Bloch', 'Shakeel  Arain', 'Usman  Khan']\n",
      "['Sohail  Khan', 'Sohail  Niazi', 'Sohail  Bloch', 'Sohail  Arain', 'Shakeel  Khan', 'Shakeel  Niazi', 'Shakeel  Bloch', 'Shakeel  Arain', 'Usman  Khan', 'Usman  Niazi']\n",
      "['Sohail  Khan', 'Sohail  Niazi', 'Sohail  Bloch', 'Sohail  Arain', 'Shakeel  Khan', 'Shakeel  Niazi', 'Shakeel  Bloch', 'Shakeel  Arain', 'Usman  Khan', 'Usman  Niazi', 'Usman  Bloch']\n",
      "['Sohail  Khan', 'Sohail  Niazi', 'Sohail  Bloch', 'Sohail  Arain', 'Shakeel  Khan', 'Shakeel  Niazi', 'Shakeel  Bloch', 'Shakeel  Arain', 'Usman  Khan', 'Usman  Niazi', 'Usman  Bloch', 'Usman  Arain']\n",
      "['Sohail  Khan', 'Sohail  Niazi', 'Sohail  Bloch', 'Sohail  Arain', 'Shakeel  Khan', 'Shakeel  Niazi', 'Shakeel  Bloch', 'Shakeel  Arain', 'Usman  Khan', 'Usman  Niazi', 'Usman  Bloch', 'Usman  Arain', 'Usama  Khan']\n",
      "['Sohail  Khan', 'Sohail  Niazi', 'Sohail  Bloch', 'Sohail  Arain', 'Shakeel  Khan', 'Shakeel  Niazi', 'Shakeel  Bloch', 'Shakeel  Arain', 'Usman  Khan', 'Usman  Niazi', 'Usman  Bloch', 'Usman  Arain', 'Usama  Khan', 'Usama  Niazi']\n",
      "['Sohail  Khan', 'Sohail  Niazi', 'Sohail  Bloch', 'Sohail  Arain', 'Shakeel  Khan', 'Shakeel  Niazi', 'Shakeel  Bloch', 'Shakeel  Arain', 'Usman  Khan', 'Usman  Niazi', 'Usman  Bloch', 'Usman  Arain', 'Usama  Khan', 'Usama  Niazi', 'Usama  Bloch']\n",
      "['Sohail  Khan', 'Sohail  Niazi', 'Sohail  Bloch', 'Sohail  Arain', 'Shakeel  Khan', 'Shakeel  Niazi', 'Shakeel  Bloch', 'Shakeel  Arain', 'Usman  Khan', 'Usman  Niazi', 'Usman  Bloch', 'Usman  Arain', 'Usama  Khan', 'Usama  Niazi', 'Usama  Bloch', 'Usama  Arain']\n",
      "['Sohail  Khan', 'Sohail  Niazi', 'Sohail  Bloch', 'Sohail  Arain', 'Shakeel  Khan', 'Shakeel  Niazi', 'Shakeel  Bloch', 'Shakeel  Arain', 'Usman  Khan', 'Usman  Niazi', 'Usman  Bloch', 'Usman  Arain', 'Usama  Khan', 'Usama  Niazi', 'Usama  Bloch', 'Usama  Arain', 'Mehar  Khan']\n",
      "['Sohail  Khan', 'Sohail  Niazi', 'Sohail  Bloch', 'Sohail  Arain', 'Shakeel  Khan', 'Shakeel  Niazi', 'Shakeel  Bloch', 'Shakeel  Arain', 'Usman  Khan', 'Usman  Niazi', 'Usman  Bloch', 'Usman  Arain', 'Usama  Khan', 'Usama  Niazi', 'Usama  Bloch', 'Usama  Arain', 'Mehar  Khan', 'Mehar  Niazi']\n",
      "['Sohail  Khan', 'Sohail  Niazi', 'Sohail  Bloch', 'Sohail  Arain', 'Shakeel  Khan', 'Shakeel  Niazi', 'Shakeel  Bloch', 'Shakeel  Arain', 'Usman  Khan', 'Usman  Niazi', 'Usman  Bloch', 'Usman  Arain', 'Usama  Khan', 'Usama  Niazi', 'Usama  Bloch', 'Usama  Arain', 'Mehar  Khan', 'Mehar  Niazi', 'Mehar  Bloch']\n",
      "['Sohail  Khan', 'Sohail  Niazi', 'Sohail  Bloch', 'Sohail  Arain', 'Shakeel  Khan', 'Shakeel  Niazi', 'Shakeel  Bloch', 'Shakeel  Arain', 'Usman  Khan', 'Usman  Niazi', 'Usman  Bloch', 'Usman  Arain', 'Usama  Khan', 'Usama  Niazi', 'Usama  Bloch', 'Usama  Arain', 'Mehar  Khan', 'Mehar  Niazi', 'Mehar  Bloch', 'Mehar  Arain']\n"
     ]
    }
   ],
   "source": [
    "first_names = [\"Sohail \", \"Shakeel \", \"Usman \", \"Usama \", \"Mehar \"] \n",
    "last_names = [\"Khan\", \"Niazi\", \"Bloch\", \"Arain\"] \n",
    "full_names = []   \n",
    "for a_first_name in first_names:  \n",
    "    for a_last_name in last_names:  \n",
    "        full_names.append(a_first_name + \" \" + a_last_name) \n",
    "        print (full_names)"
   ]
  },
  {
   "cell_type": "code",
   "execution_count": null,
   "metadata": {},
   "outputs": [],
   "source": []
  }
 ],
 "metadata": {
  "kernelspec": {
   "display_name": "Python 3",
   "language": "python",
   "name": "python3"
  },
  "language_info": {
   "codemirror_mode": {
    "name": "ipython",
    "version": 3
   },
   "file_extension": ".py",
   "mimetype": "text/x-python",
   "name": "python",
   "nbconvert_exporter": "python",
   "pygments_lexer": "ipython3",
   "version": "3.6.5"
  }
 },
 "nbformat": 4,
 "nbformat_minor": 2
}
