{
 "cells": [
  {
   "cell_type": "code",
   "execution_count": 3,
   "metadata": {},
   "outputs": [
    {
     "name": "stdout",
     "output_type": "stream",
     "text": [
      "join gym\n"
     ]
    }
   ],
   "source": [
    "sohailWeight = 70;\n",
    "usmanWeight = 72;\n",
    "usamaWeihgt = 53;\n",
    "\n",
    "sAge = 24;\n",
    "UAge = 19;\n",
    "uAge = 23;\n",
    "\n",
    "if sohailWeight > 65 and sAge >20:\n",
    "    print(\"join gym\");\n",
    "elif usmanWeight < 65 or (UAge < 30 and UAge > 18):\n",
    "    print(\"problem !!\");"
   ]
  },
  {
   "cell_type": "code",
   "execution_count": null,
   "metadata": {},
   "outputs": [],
   "source": []
  }
 ],
 "metadata": {
  "kernelspec": {
   "display_name": "Python 3",
   "language": "python",
   "name": "python3"
  },
  "language_info": {
   "codemirror_mode": {
    "name": "ipython",
    "version": 3
   },
   "file_extension": ".py",
   "mimetype": "text/x-python",
   "name": "python",
   "nbconvert_exporter": "python",
   "pygments_lexer": "ipython3",
   "version": "3.6.5"
  }
 },
 "nbformat": 4,
 "nbformat_minor": 2
}
